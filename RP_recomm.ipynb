{
 "cells": [
  {
   "cell_type": "code",
   "execution_count": 1,
   "metadata": {},
   "outputs": [
    {
     "name": "stderr",
     "output_type": "stream",
     "text": [
      "/opt/anaconda3/envs/py_proj/lib/python3.12/site-packages/tqdm/auto.py:21: TqdmWarning: IProgress not found. Please update jupyter and ipywidgets. See https://ipywidgets.readthedocs.io/en/stable/user_install.html\n",
      "  from .autonotebook import tqdm as notebook_tqdm\n"
     ]
    },
    {
     "name": "stdout",
     "output_type": "stream",
     "text": [
      "Downloading from https://www.kaggle.com/api/v1/datasets/download/nechbamohammed/research-papers-dataset?dataset_version_number=1...\n"
     ]
    },
    {
     "name": "stderr",
     "output_type": "stream",
     "text": [
      "100%|██████████| 590M/590M [02:22<00:00, 4.34MB/s] "
     ]
    },
    {
     "name": "stdout",
     "output_type": "stream",
     "text": [
      "Extracting files...\n"
     ]
    },
    {
     "name": "stderr",
     "output_type": "stream",
     "text": [
      "\n"
     ]
    },
    {
     "name": "stdout",
     "output_type": "stream",
     "text": [
      "Path to dataset files: /Users/anuragprasad/.cache/kagglehub/datasets/nechbamohammed/research-papers-dataset/versions/1\n",
      "dblp-v10.csv\n",
      "/Users/anuragprasad/.cache/kagglehub/datasets/nechbamohammed/research-papers-dataset/versions/1/dblp-v10.csv\n"
     ]
    }
   ],
   "source": [
    "import kagglehub\n",
    "\n",
    "# Download latest version\n",
    "path = kagglehub.dataset_download(\"nechbamohammed/research-papers-dataset\")\n",
    "\n",
    "print(\"Path to dataset files:\", path)\n",
    "import os\n",
    "csv_file=os.listdir(path)\n",
    "print(csv_file[0])\n",
    "\n",
    "csv_file_path = os.path.join(path, csv_file[0])\n",
    "print(csv_file_path)"
   ]
  },
  {
   "cell_type": "code",
   "execution_count": 2,
   "metadata": {},
   "outputs": [],
   "source": [
    "import pandas as pd\n",
    "from sklearn.feature_extraction.text import TfidfVectorizer\n",
    "from sklearn.metrics.pairwise import cosine_similarity\n",
    "import json"
   ]
  },
  {
   "cell_type": "code",
   "execution_count": 3,
   "metadata": {},
   "outputs": [],
   "source": [
    "df=pd.read_csv(csv_file_path)"
   ]
  },
  {
   "cell_type": "code",
   "execution_count": 4,
   "metadata": {},
   "outputs": [
    {
     "name": "stdout",
     "output_type": "stream",
     "text": [
      "                                            abstract  \\\n",
      "0  In this paper, a robust 3D triangular mesh wat...   \n",
      "1  We studied an autoassociative neural network w...   \n",
      "2  It is well-known that Sturmian sequences are t...   \n",
      "3  One of the fundamental challenges of recognizi...   \n",
      "4  This paper generalizes previous optimal upper ...   \n",
      "5  Queueing networks with multiple classes of cus...   \n",
      "6  A CMOS oscillator employing differential trans...   \n",
      "7  In statistical setting of the pattern recognit...   \n",
      "8  We first discuss some general aspects of micro...   \n",
      "9                                                NaN   \n",
      "\n",
      "                                             authors  n_citation  \\\n",
      "0             ['S. Ben Jabra', 'Ezzeddine Zagrouba']          50   \n",
      "1  ['Joaquín J. Torres', 'Jesús M. Cortés', 'Joaq...          50   \n",
      "2           ['Genevi eve Paquin', 'Laurent Vuillon']          50   \n",
      "3  ['Yaser Sheikh', 'Mumtaz Sheikh', 'Mubarak Shah']         221   \n",
      "4  ['Efraim Laksman', 'Håkan Lennerstad', 'Magnus...           0   \n",
      "5  ['Simonetta Balsamo', 'Gian–Luca Dei Rossi', '...           6   \n",
      "6             ['Andrea Mazzanti', 'Pietro Andreani']          50   \n",
      "7                                  ['Daniil Ryabko']           2   \n",
      "8  ['Maria Chiara Carrozza', 'Paolo Dario', 'Aria...          50   \n",
      "9        ['Zhanjun Bai', 'Xing Zhou', 'Ralph Mason']           3   \n",
      "\n",
      "                                          references  \\\n",
      "0  ['09cb2d7d-47d1-4a85-bfe5-faa8221e644b', '10aa...   \n",
      "1  ['4017c9d2-9845-4ad2-ad5b-ba65523727c5', 'b118...   \n",
      "2  ['1c655ee2-067d-4bc4-b8cc-bc779e9a7f10', '2e4e...   \n",
      "3  ['056116c1-9e7a-4f9b-a918-44eb199e67d6', '05ac...   \n",
      "4  ['01a765b8-0cb3-495c-996f-29c36756b435', '5dbc...   \n",
      "5  ['1c26e228-57d2-4b2c-b0c9-8d5851c17fac', '7539...   \n",
      "6  ['0a09db01-264a-4bdf-942c-d33cceb35d3c', '36c9...   \n",
      "7           ['505f493b-e09d-444d-9ee2-5e5db6a5b8ac']   \n",
      "8  ['5ecd70e1-7ccc-4b2f-ac09-b91953cca5cd', '7fa7...   \n",
      "9  ['54f270aa-ce44-4ece-a2ca-c63a9f266cb3', '638c...   \n",
      "\n",
      "                                               title  \\\n",
      "0  A new approach of 3D watermarking based on ima...   \n",
      "1  Attractor neural networks with activity-depend...   \n",
      "2  A characterization of balanced episturmian seq...   \n",
      "3              Exploring the space of a human action   \n",
      "4  Generalized upper bounds on the minimum distan...   \n",
      "5  Applying BCMP multi-class queueing networks fo...   \n",
      "6                       A Push–Pull Class-C CMOS VCO   \n",
      "7   On computability of pattern recognition problems   \n",
      "8  Manipulating biological and mechanical micro-o...   \n",
      "9  A novel Injection Locked Rotary Traveling Wave...   \n",
      "\n",
      "                                               venue  year  \\\n",
      "0  international symposium on computers and commu...  2008   \n",
      "1                                     Neurocomputing  2007   \n",
      "2                Electronic Journal of Combinatorics  2007   \n",
      "3        international conference on computer vision  2005   \n",
      "4  Ima Journal of Mathematical Control and Inform...  2015   \n",
      "5  International Journal of Computer Aided Engine...  2015   \n",
      "6               IEEE Journal of Solid-state Circuits  2013   \n",
      "7                        algorithmic learning theory  2005   \n",
      "8  international conference on robotics and autom...  1998   \n",
      "9    international symposium on circuits and systems  2014   \n",
      "\n",
      "                                     id  \n",
      "0  4ab3735c-80f1-472d-b953-fa0557fed28b  \n",
      "1  4ab39729-af77-46f7-a662-16984fb9c1db  \n",
      "2  4ab3a4cf-1d96-4ce5-ab6f-b3e19fc260de  \n",
      "3  4ab3a98c-3620-47ec-b578-884ecf4a6206  \n",
      "4  4ab3b585-82b4-4207-91dd-b6bce7e27c4e  \n",
      "5  4ab3e768-78c9-4497-8b8e-9e934cb5f2e4  \n",
      "6  4ab3f7cd-140b-4e29-99d4-f4e8006c4f65  \n",
      "7  4ab404e2-6f4b-4fb4-b093-50775e765b13  \n",
      "8  4ab4244d-fb3e-49a3-b125-367df3d8e6ba  \n",
      "9  4ab439a4-9379-44f5-b98b-87125ae7366e  \n"
     ]
    }
   ],
   "source": [
    "print(df.head(10))"
   ]
  },
  {
   "cell_type": "code",
   "execution_count": 5,
   "metadata": {},
   "outputs": [],
   "source": [
    "df['combined_text']=df['title'].fillna('') +df['abstract'].fillna('')"
   ]
  },
  {
   "cell_type": "code",
   "execution_count": 6,
   "metadata": {},
   "outputs": [],
   "source": [
    "# df=df.head(10)"
   ]
  },
  {
   "cell_type": "code",
   "execution_count": 7,
   "metadata": {},
   "outputs": [],
   "source": [
    "tfidf=TfidfVectorizer(stop_words=\"english\")\n",
    "tfidf_matrix=tfidf.fit_transform(df['combined_text'])"
   ]
  },
  {
   "cell_type": "code",
   "execution_count": 8,
   "metadata": {},
   "outputs": [],
   "source": [
    "cosineSimilarity=cosine_similarity(tfidf_matrix,tfidf_matrix)"
   ]
  },
  {
   "cell_type": "code",
   "execution_count": 16,
   "metadata": {},
   "outputs": [],
   "source": [
    "def getPaperIndex(title):\n",
    "    return df[df['title'].str.strip().str.lower() == title.strip().lower()].index[0]"
   ]
  },
  {
   "cell_type": "code",
   "execution_count": 17,
   "metadata": {},
   "outputs": [],
   "source": [
    "def get_paper_recommendations(paper_title, cosine_sim=cosineSimilarity, df=df):\n",
    "    idx=getPaperIndex(paper_title)\n",
    "    \n",
    "    #For a given paper calculates its cosine similarity with respect to all the papers\n",
    "    similar_scores=list(enumerate(cosineSimilarity[idx]))\n",
    "    \n",
    "    #Then sorts all the papers in the decreasing(reverse) order of their \n",
    "    #Cosine Similarity with the 'idx' index paper\n",
    "    \n",
    "    similar_scores=sorted(similar_scores, key=lambda x:x[1], reverse=True)\n",
    "    \n",
    "    #Then returns the 5 most similar papers to the user apart from the \n",
    "    #paper itself and recommends it to the user\n",
    "    \n",
    "    similar_scores=similar_scores[1:6]\n",
    "    \n",
    "    \n",
    "    #To get the indices of the most similar papers:\n",
    "    paper_indices=[i[0] for i in similar_scores]\n",
    "\n",
    "    #Then we create a list of dictionaries that contain all the info\n",
    "    #about the recommended papers from\n",
    "\n",
    "    #The orient='records' converts each row to a different dictionary\n",
    "    recommended_papers=df.iloc[paper_indices][['title','authors','year', 'references','n_citation','venue']].to_dict(orient='records')\n",
    "    \n",
    "    return json.dumps(recommended_papers, indent=5)"
   ]
  },
  {
   "cell_type": "code",
   "execution_count": 22,
   "metadata": {},
   "outputs": [
    {
     "name": "stdout",
     "output_type": "stream",
     "text": [
      "[\n",
      "     {\n",
      "          \"title\": \"Exploring the space of a human action\",\n",
      "          \"authors\": \"['Yaser Sheikh', 'Mumtaz Sheikh', 'Mubarak Shah']\",\n",
      "          \"year\": 2005,\n",
      "          \"references\": \"['056116c1-9e7a-4f9b-a918-44eb199e67d6', '05ac52a1-dfa2-4c32-9a54-6c1e58cfcca5', '0b2f71cc-6797-445a-82df-5be29945c0a7', '60cf9842-c3aa-463d-a5cf-17fbb8f99ccd', '7a3bb575-8313-4e77-a008-ee5cde444746', '7eda9b91-21f1-490f-8ef2-f94e81c558a4', '905461e4-643b-4da0-a669-f52318b9e126', 'be336575-9974-411d-b637-45440213cbd4', 'be9527aa-97e2-4951-86d1-cc6130cbb777', 'f0d57def-3340-49be-a1c3-cbc996af8dec']\",\n",
      "          \"n_citation\": 221,\n",
      "          \"venue\": \"international conference on computer vision\"\n",
      "     },\n",
      "     {\n",
      "          \"title\": \"A Push\\u2013Pull Class-C CMOS VCO\",\n",
      "          \"authors\": \"['Andrea Mazzanti', 'Pietro Andreani']\",\n",
      "          \"year\": 2013,\n",
      "          \"references\": \"['0a09db01-264a-4bdf-942c-d33cceb35d3c', '36c942df-7fcb-40b8-b023-a3a4001f632e', '84c00b06-a611-4082-89f7-df2d5540d210', 'a5496509-ebaf-472b-bc83-2e7c503e55bf', 'b8b564ca-0651-4fd4-8db0-0f7710e25ce1', 'bb1ed638-e3c3-46f7-adf9-6977afca564a', 'e3a35338-4747-46f7-b752-5690a5c3c84a', 'f277b0e7-3f23-4a22-ac17-fc6c6019c664']\",\n",
      "          \"n_citation\": 50,\n",
      "          \"venue\": \"IEEE Journal of Solid-state Circuits\"\n",
      "     },\n",
      "     {\n",
      "          \"title\": \"Applying BCMP multi-class queueing networks for the performance evaluation of hierarchical and modular software systems\",\n",
      "          \"authors\": \"['Simonetta Balsamo', 'Gian\\u2013Luca Dei Rossi', 'Andrea Marin']\",\n",
      "          \"year\": 2015,\n",
      "          \"references\": \"['1c26e228-57d2-4b2c-b0c9-8d5851c17fac', '75399207-1568-4ee7-ba52-ef10f26add66', '85244323-5e23-4e8b-86f5-7ac94efeb41a', '8feb6edc-fb79-42ef-8b1f-0bdad35d32d6', 'af481f6f-28ed-450b-97ab-90053e681184', 'db568ebb-0611-468b-81cc-c1443de40c14', 'fd0827cd-5709-4048-94fd-572968165b1e']\",\n",
      "          \"n_citation\": 6,\n",
      "          \"venue\": \"International Journal of Computer Aided Engineering and Technology\"\n",
      "     },\n",
      "     {\n",
      "          \"title\": \"Attractor neural networks with activity-dependent synapses: The role of synaptic facilitation\",\n",
      "          \"authors\": \"['Joaqu\\u00edn J. Torres', 'Jes\\u00fas M. Cort\\u00e9s', 'Joaqu\\u00edn Marro', 'Hilbert J. Kappen']\",\n",
      "          \"year\": 2007,\n",
      "          \"references\": \"['4017c9d2-9845-4ad2-ad5b-ba65523727c5', 'b1187381-cc24-471e-b288-5da09c3d4ca9', 'ecf8e7f0-cac6-47e4-9c29-f4241b0e1d7a']\",\n",
      "          \"n_citation\": 50,\n",
      "          \"venue\": \"Neurocomputing\"\n",
      "     },\n",
      "     {\n",
      "          \"title\": \"Manipulating biological and mechanical micro-objects using LIGA-microfabricated end-effectors\",\n",
      "          \"authors\": \"['Maria Chiara Carrozza', 'Paolo Dario', 'Arianna Menciassi', 'A. Fenu']\",\n",
      "          \"year\": 1998,\n",
      "          \"references\": \"['5ecd70e1-7ccc-4b2f-ac09-b91953cca5cd', '7fa711e9-0010-47a7-8194-9e94e70774b3', '95fbcb46-d829-453b-8c74-d691150c7eac', 'dade067a-8767-4258-8a1d-4f27f2be4f61']\",\n",
      "          \"n_citation\": 50,\n",
      "          \"venue\": \"international conference on robotics and automation\"\n",
      "     }\n",
      "]\n"
     ]
    }
   ],
   "source": [
    "input_paper=\"A new approach of 3D watermarking based on image segmentation\"\n",
    "    \n",
    "recommended_papers=get_paper_recommendations(input_paper)\n",
    "print(recommended_papers)"
   ]
  },
  {
   "cell_type": "code",
   "execution_count": null,
   "metadata": {},
   "outputs": [],
   "source": []
  }
 ],
 "metadata": {
  "kernelspec": {
   "display_name": "Python 3",
   "language": "python",
   "name": "python3"
  },
  "language_info": {
   "codemirror_mode": {
    "name": "ipython",
    "version": 3
   },
   "file_extension": ".py",
   "mimetype": "text/x-python",
   "name": "python",
   "nbconvert_exporter": "python",
   "pygments_lexer": "ipython3",
   "version": "3.12.4"
  }
 },
 "nbformat": 4,
 "nbformat_minor": 2
}
